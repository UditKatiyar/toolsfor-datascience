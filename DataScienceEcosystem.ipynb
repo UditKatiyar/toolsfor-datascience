{
 "cells": [
  {
   "cell_type": "markdown",
   "id": "4ed148ec-a6a2-4699-87d6-aedae23a78d0",
   "metadata": {},
   "source": [
    "# Data Science Tools and Ecosystem"
   ]
  },
  {
   "cell_type": "markdown",
   "id": "fedccb0b-fee3-496f-ba03-b0ff1981c690",
   "metadata": {
    "tags": []
   },
   "source": [
    "# introduction\n",
    "in this notebooks data science tools are summarized "
   ]
  },
  {
   "cell_type": "markdown",
   "id": "848d82db-3f76-4016-9e89-e40ae2f8fdda",
   "metadata": {},
   "source": [
    "## some of the key takeaways of this course are\n",
    "__objectives:__\n",
    "- popular data science languages\n",
    "-  popular libraries used in data science\n",
    "-  popular data science tools\n",
    "-  basic arithmetic operations\n",
    "-  code to multiply and add integer simulataneously\n",
    "-  code to convert minutes into hours\n"
   ]
  },
  {
   "cell_type": "markdown",
   "id": "53d27ef2-e8fa-4e0c-a24f-177a16e0d64b",
   "metadata": {},
   "source": [
    "# Data Science Languages\n",
    "## some of the popular languages that data scientist use are:\n",
    "1. python\n",
    "2. R\n",
    "3. Scala\n",
    "4. Julia\n",
    "5. Sql"
   ]
  },
  {
   "cell_type": "markdown",
   "id": "292b7b38-df17-4b64-a4c3-ccf4435c3bd6",
   "metadata": {},
   "source": [
    "# popular  libraries used in data science"
   ]
  },
  {
   "cell_type": "markdown",
   "id": "452f9386-61a5-4f16-9904-0b75636b8920",
   "metadata": {},
   "source": [
    "## some of the most commonly used libraries used by data scientist includes:\n",
    "1. pandas\n",
    "2. Numpy\n",
    "3. Matplotlib\n",
    "4. seaborn\n",
    "5. Scikit learn\n"
   ]
  },
  {
   "cell_type": "markdown",
   "id": "fcfe19ae-99c8-4c49-ae0f-ac8a5daeaebc",
   "metadata": {},
   "source": [
    "# popular data science tools"
   ]
  },
  {
   "cell_type": "markdown",
   "id": "96fdef99-6c3f-4bf0-98dc-a8b1175b2245",
   "metadata": {},
   "source": [
    "|data science tools|\n",
    "--------------------\n",
    "|pandas|\n",
    "|Knime|\n",
    "|scikit learn|\n",
    "|Apache hadoop|\n",
    "|Tableau|\n",
    "|Matlab|\n",
    "|SAS|\n",
    "|jupyter notebook|\n",
    "|WEKA|\n"
   ]
  },
  {
   "cell_type": "markdown",
   "id": "7b9c926d-6ff4-4b15-baf0-8746967ffe47",
   "metadata": {},
   "source": [
    "# arithmetic operations"
   ]
  },
  {
   "cell_type": "markdown",
   "id": "23a4d46d-bacd-4425-8c34-a89ef89b7a16",
   "metadata": {},
   "source": [
    "### below are few examples of evaluating arithmatic operations"
   ]
  },
  {
   "cell_type": "code",
   "execution_count": 2,
   "id": "941609f5-5e2d-41bd-a72d-63875ffe71eb",
   "metadata": {
    "tags": []
   },
   "outputs": [
    {
     "data": {
      "text/plain": [
       "4"
      ]
     },
     "execution_count": 2,
     "metadata": {},
     "output_type": "execute_result"
    }
   ],
   "source": [
    "2+2\n",
    "# this is the basic addition operation"
   ]
  },
  {
   "cell_type": "code",
   "execution_count": 3,
   "id": "7fa69ce0-3c25-4e99-ab96-a6b9caa518cc",
   "metadata": {
    "tags": []
   },
   "outputs": [
    {
     "data": {
      "text/plain": [
       "3"
      ]
     },
     "execution_count": 3,
     "metadata": {},
     "output_type": "execute_result"
    }
   ],
   "source": [
    "5-2  # this is the basic substraction operation"
   ]
  },
  {
   "cell_type": "code",
   "execution_count": 4,
   "id": "707a1495-d49a-4c06-a215-a135a16024d5",
   "metadata": {
    "tags": []
   },
   "outputs": [
    {
     "data": {
      "text/plain": [
       "10"
      ]
     },
     "execution_count": 4,
     "metadata": {},
     "output_type": "execute_result"
    }
   ],
   "source": [
    "5*2  # this is the basic multiplication operation"
   ]
  },
  {
   "cell_type": "markdown",
   "id": "bd1bb0e6-c9ff-46a6-921f-8f8b442052be",
   "metadata": {},
   "source": [
    "# create a code to multiply and add integers"
   ]
  },
  {
   "cell_type": "code",
   "execution_count": 6,
   "id": "0c135cf6-21b1-4174-a5f4-b64eab599ede",
   "metadata": {
    "tags": []
   },
   "outputs": [
    {
     "data": {
      "text/plain": [
       "17"
      ]
     },
     "execution_count": 6,
     "metadata": {},
     "output_type": "execute_result"
    }
   ],
   "source": [
    "(3*4)+5  # this is a simple arithmatic operations to multiply first and then add integers"
   ]
  },
  {
   "cell_type": "markdown",
   "id": "bc4df084-c298-44f5-bf14-fcf10314302d",
   "metadata": {},
   "source": [
    "# code to convert minute into hours"
   ]
  },
  {
   "cell_type": "code",
   "execution_count": 11,
   "id": "45ad0cd1-f5be-4046-8968-d0794c210ffd",
   "metadata": {
    "tags": []
   },
   "outputs": [
    {
     "name": "stdout",
     "output_type": "stream",
     "text": [
      "hours= 3\n"
     ]
    }
   ],
   "source": [
    "def convertminutes(n):\n",
    "    hours = n//60;    #  here we divide the number by 60 because we know that there are 60 minutes in one hour\n",
    "    print(\"hours=\", hours);\n",
    "n= 180;\n",
    "convertminutes(n)"
   ]
  },
  {
   "cell_type": "markdown",
   "id": "371f5a17-cbc8-4f19-8165-abcc186060dd",
   "metadata": {},
   "source": [
    "## author\n",
    "   Udit Katiyar\n"
   ]
  },
  {
   "cell_type": "code",
   "execution_count": null,
   "id": "6c265e60-9a11-4842-a218-b55b7168dd53",
   "metadata": {},
   "outputs": [],
   "source": []
  }
 ],
 "metadata": {
  "kernelspec": {
   "display_name": "Python",
   "language": "python",
   "name": "conda-env-python-py"
  },
  "language_info": {
   "codemirror_mode": {
    "name": "ipython",
    "version": 3
   },
   "file_extension": ".py",
   "mimetype": "text/x-python",
   "name": "python",
   "nbconvert_exporter": "python",
   "pygments_lexer": "ipython3",
   "version": "3.7.12"
  }
 },
 "nbformat": 4,
 "nbformat_minor": 5
}
